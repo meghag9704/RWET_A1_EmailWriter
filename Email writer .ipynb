{
 "cells": [
  {
   "cell_type": "markdown",
   "metadata": {},
   "source": [
    "# Email Writer\n",
    "\n",
    "By [Megha Goel]\n",
    "\n",
    "A variation of the Love Letter Generator from the provided Implementations of early and well-known poetry generators by Allison Parrish. Made for class 2 of Reading + Writing Electronic Text, ITP, February 2023. \n",
    "\n",
    "This was created to mimic messages written to Hiring Managers and the generic introductions and calls to actions at the beginning of all emails. Particularly made because I am tired of writing introductions. \n",
    "\n",
    "<!-- Original note from Allison -->\n",
    "Original Love Letter Generator by Christopher Strachey, written for the Manchester Mark I in 1952. [Read more here](https://grandtextauto.soe.ucsc.edu/2005/08/01/christopher-strachey-first-digital-artist/).\n",
    "\n",
    "Vocabulary based on [this implementation](https://github.com/gingerbeardman/loveletter/blob/master/index.php)."
   ]
  },
  {
   "cell_type": "code",
   "execution_count": 2,
   "metadata": {},
   "outputs": [],
   "source": [
    "import random #realized it was important to import these parts. \n",
    "import textwrap\n",
    "\n",
    "sal_adjs = [\n",
    "    \"Dear\",\n",
    "    \"To\",\n",
    "    \"Hello\"]"
   ]
  },
  {
   "cell_type": "code",
   "execution_count": 3,
   "metadata": {},
   "outputs": [],
   "source": [
    "sal_nouns = [\n",
    "    \"HR committee\",\n",
    "    \"whom it may concern\",\n",
    "    \"Hiring Manager\"]"
   ]
  },
  {
   "cell_type": "code",
   "execution_count": 4,
   "metadata": {},
   "outputs": [],
   "source": [
    "adjs = [\n",
    "    'request',\n",
    "    'express',\n",
    "    'communicate',\n",
    "    'convey',\n",
    "    'indicate',\n",
    "    'show',\n",
    "    'demonstrate',\n",
    "    'manifest',\n",
    "    'exhibit',\n",
    "    'illustrate']"
   ]
  },
  {
   "cell_type": "code",
   "execution_count": 5,
   "metadata": {},
   "outputs": [],
   "source": [
    "nouns = [\n",
    "    'interest',\n",
    "    'attention',\n",
    "    'curiosity',\n",
    "    'investment',\n",
    "    'participation',\n",
    "    'fascination']"
   ]
  },
  {
   "cell_type": "code",
   "execution_count": 6,
   "metadata": {},
   "outputs": [],
   "source": [
    "advs = [\n",
    "    'intrigues',\n",
    "    'anxiously',\n",
    "    'curiously',\n",
    "    'eagerly',\n",
    "    'keenly',\n",
    "]"
   ]
  },
  {
   "cell_type": "code",
   "execution_count": 7,
   "metadata": {},
   "outputs": [],
   "source": [
    "verbs = [\n",
    "    'hopes for',\n",
    "    'wishes',\n",
    "    'communicates',\n",
    "    'aspirations',\n",
    "    'desires',\n",
    "    'ambition',\n",
    "    'plans for'\n",
    "    'optimism']"
   ]
  },
  {
   "cell_type": "markdown",
   "metadata": {},
   "source": []
  },
  {
   "cell_type": "code",
   "execution_count": 12,
   "metadata": {},
   "outputs": [
    {
     "name": "stdout",
     "output_type": "stream",
     "text": [
      "Hello Hiring Manager,\n",
      "\n",
      "My manifest fascination keenly ambition your illustrate\n",
      "participation. I am writing to illustrate curiosity. My\n",
      "illustrate participation plans foroptimism your investment.\n",
      "I am writing to request curiosity. My illustrate\n",
      "participation anxiously communicates your illustrate\n",
      "interest.\n",
      "\n",
      "curiously,\n",
      "M.G.\n"
     ]
    }
   ],
   "source": [
    "# textwrap library used to \"wrap\" the text at a particular length\n",
    "import textwrap\n",
    "\n",
    "# output begins with salutation\n",
    "output = random.choice(sal_adjs) + \" \" + random.choice(sal_nouns) + \",\\n\"\n",
    "output += \"\\n\"\n",
    "\n",
    "# inside this loop, build the phrases. strachey implemented \"short\" phrases\n",
    "# and \"long\" phrases; two or more \"short\" phrases in a row have special\n",
    "# formatting rules, so we need to know what the last phrase kind was in\n",
    "# order to generate the output.\n",
    "history = []\n",
    "body = \"\"\n",
    "for i in range(5):\n",
    "    kind = random.choice([\"short\", \"long\"])\n",
    "    if kind == \"long\":\n",
    "        # adjectives and adverbs will be present only 50% of the time\n",
    "        line = \" \".join([\n",
    "            \"My\",\n",
    "            random.choice([random.choice(adjs), \"\"]),\n",
    "            random.choice(nouns),\n",
    "            random.choice([random.choice(advs), \"\"]),\n",
    "            random.choice(verbs),\n",
    "            \"your\",\n",
    "            random.choice([random.choice(adjs), \"\"]),\n",
    "            random.choice(nouns)])\n",
    "        body += line\n",
    "    else:\n",
    "        adj_noun = random.choice(adjs) + \" \" + random.choice(nouns)\n",
    "        # if the last phrase was \"short,\" use truncated form\n",
    "        if len(history) > 0 and history[-1] == \"short\":\n",
    "            body += \": my \" + adj_noun\n",
    "        else:\n",
    "            body += \"I am writing to \" + adj_noun\n",
    "    body += \". \"\n",
    "    history.append(kind)\n",
    "# clean up output\n",
    "body = body.replace(\"  \", \" \")\n",
    "body = body.replace(\". :\", \":\")\n",
    "# put everything together\n",
    "output += textwrap.fill(body, 60)\n",
    "# output += \"\\n\\nYours \" + random.choice(advs) + \",\\n\" <- from original, taken out. \n",
    "output += \"\\n\\n\" + random.choice(advs) + \",\\n\" #edited\n",
    "output += \"M.G.\"\n",
    "print(output)"
   ]
  },
  {
   "cell_type": "markdown",
   "metadata": {},
   "source": [
    "(1) \n",
    "To Hiring Manager,\n",
    "\n",
    "My participation eagerly plans foroptimism your curiosity.\n",
    "My demonstrate investment communicates your interest. I am\n",
    "writing to show attention: my exhibit fascination. My\n",
    "manifest interest anxiously wishes your indicate attention.\n",
    "\n",
    "curiously,\n",
    "M.G.\n",
    "\n",
    "(2)\n",
    "Hello HR committee,\n",
    "\n",
    "I am writing to show fascination. My investment ambition\n",
    "your interest. My interest curiously plans foroptimism your\n",
    "illustrate interest. I am writing to exhibit fascination. My\n",
    "interest eagerly hopes for your demonstrate curiosity.\n",
    "\n",
    "anxiously,\n",
    "M.G.\n",
    "\n",
    "(3)\n",
    "Hello Hiring Manager,\n",
    "\n",
    "My show attention hopes for your indicate curiosity. I am\n",
    "writing to illustrate participation. My interest ambition\n",
    "your exhibit investment. My indicate investment eagerly\n",
    "communicates your exhibit interest. I am writing to convey\n",
    "curiosity.\n",
    "\n",
    "anxiously,\n",
    "M.G.\n",
    "\n",
    "(4)\n",
    "Dear Hiring Manager,\n",
    "\n",
    "I am writing to illustrate fascination. My participation\n",
    "desires your fascination. My illustrate curiosity intrigues\n",
    "plans foroptimism your investment. My participation\n",
    "communicates your investment. I am writing to manifest\n",
    "participation.\n",
    "\n",
    "intrigues,\n",
    "M.G.\n",
    "\n",
    "(5)\n",
    "Hello whom it may concern,\n",
    "\n",
    "I am writing to indicate interest: my express investment: my\n",
    "show interest: my manifest curiosity: my exhibit attention.\n",
    "\n",
    "keenly,\n",
    "M.G."
   ]
  },
  {
   "cell_type": "code",
   "execution_count": null,
   "metadata": {},
   "outputs": [],
   "source": []
  }
 ],
 "metadata": {
  "kernelspec": {
   "display_name": "Python 3 (ipykernel)",
   "language": "python",
   "name": "python3"
  },
  "language_info": {
   "codemirror_mode": {
    "name": "ipython",
    "version": 3
   },
   "file_extension": ".py",
   "mimetype": "text/x-python",
   "name": "python",
   "nbconvert_exporter": "python",
   "pygments_lexer": "ipython3",
   "version": "3.9.13"
  }
 },
 "nbformat": 4,
 "nbformat_minor": 2
}
